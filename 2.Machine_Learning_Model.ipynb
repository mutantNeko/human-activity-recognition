{
 "cells": [
  {
   "cell_type": "code",
   "execution_count": 69,
   "metadata": {},
   "outputs": [],
   "source": [
    "import pandas as pd\n",
    "from lazypredict.Supervised import LazyClassifier\n",
    "from sklearn.model_selection import train_test_split"
   ]
  },
  {
   "cell_type": "code",
   "execution_count": 5,
   "metadata": {},
   "outputs": [],
   "source": [
    "train = pd.read_csv(\"/home/neko/UCI HAR Dataset/f_train.csv\")\n",
    "test = pd.read_csv(\"/home/neko/UCI HAR Dataset/f_test.csv\")"
   ]
  },
  {
   "cell_type": "code",
   "execution_count": 11,
   "metadata": {},
   "outputs": [
    {
     "data": {
      "text/html": [
       "<div>\n",
       "<style scoped>\n",
       "    .dataframe tbody tr th:only-of-type {\n",
       "        vertical-align: middle;\n",
       "    }\n",
       "\n",
       "    .dataframe tbody tr th {\n",
       "        vertical-align: top;\n",
       "    }\n",
       "\n",
       "    .dataframe thead th {\n",
       "        text-align: right;\n",
       "    }\n",
       "</style>\n",
       "<table border=\"1\" class=\"dataframe\">\n",
       "  <thead>\n",
       "    <tr style=\"text-align: right;\">\n",
       "      <th></th>\n",
       "      <th>tBodyAccmeanX</th>\n",
       "      <th>tBodyAccmeanY</th>\n",
       "      <th>tBodyAccmeanZ</th>\n",
       "      <th>tBodyAccstdX</th>\n",
       "      <th>tBodyAccstdY</th>\n",
       "      <th>tBodyAccstdZ</th>\n",
       "      <th>tBodyAccmadX</th>\n",
       "      <th>tBodyAccmadY</th>\n",
       "      <th>tBodyAccmadZ</th>\n",
       "      <th>tBodyAccmaxX</th>\n",
       "      <th>...</th>\n",
       "      <th>angletBodyAccMeangravity</th>\n",
       "      <th>angletBodyAccJerkMeangravityMean</th>\n",
       "      <th>angletBodyGyroMeangravityMean</th>\n",
       "      <th>angletBodyGyroJerkMeangravityMean</th>\n",
       "      <th>angleXgravityMean</th>\n",
       "      <th>angleYgravityMean</th>\n",
       "      <th>angleZgravityMean</th>\n",
       "      <th>subject</th>\n",
       "      <th>label</th>\n",
       "      <th>activity</th>\n",
       "    </tr>\n",
       "  </thead>\n",
       "  <tbody>\n",
       "    <tr>\n",
       "      <th>0</th>\n",
       "      <td>0.29</td>\n",
       "      <td>-0.02</td>\n",
       "      <td>-0.13</td>\n",
       "      <td>-1.00</td>\n",
       "      <td>-0.98</td>\n",
       "      <td>-0.91</td>\n",
       "      <td>-1.00</td>\n",
       "      <td>-0.98</td>\n",
       "      <td>-0.92</td>\n",
       "      <td>-0.93</td>\n",
       "      <td>...</td>\n",
       "      <td>-0.11</td>\n",
       "      <td>0.03</td>\n",
       "      <td>-0.46</td>\n",
       "      <td>-0.02</td>\n",
       "      <td>-0.84</td>\n",
       "      <td>0.18</td>\n",
       "      <td>-0.06</td>\n",
       "      <td>1</td>\n",
       "      <td>5</td>\n",
       "      <td>STANDING</td>\n",
       "    </tr>\n",
       "    <tr>\n",
       "      <th>1</th>\n",
       "      <td>0.28</td>\n",
       "      <td>-0.02</td>\n",
       "      <td>-0.12</td>\n",
       "      <td>-1.00</td>\n",
       "      <td>-0.98</td>\n",
       "      <td>-0.96</td>\n",
       "      <td>-1.00</td>\n",
       "      <td>-0.97</td>\n",
       "      <td>-0.96</td>\n",
       "      <td>-0.94</td>\n",
       "      <td>...</td>\n",
       "      <td>0.05</td>\n",
       "      <td>-0.01</td>\n",
       "      <td>-0.73</td>\n",
       "      <td>0.70</td>\n",
       "      <td>-0.84</td>\n",
       "      <td>0.18</td>\n",
       "      <td>-0.05</td>\n",
       "      <td>1</td>\n",
       "      <td>5</td>\n",
       "      <td>STANDING</td>\n",
       "    </tr>\n",
       "    <tr>\n",
       "      <th>2</th>\n",
       "      <td>0.28</td>\n",
       "      <td>-0.02</td>\n",
       "      <td>-0.11</td>\n",
       "      <td>-1.00</td>\n",
       "      <td>-0.97</td>\n",
       "      <td>-0.98</td>\n",
       "      <td>-1.00</td>\n",
       "      <td>-0.96</td>\n",
       "      <td>-0.98</td>\n",
       "      <td>-0.94</td>\n",
       "      <td>...</td>\n",
       "      <td>-0.12</td>\n",
       "      <td>0.18</td>\n",
       "      <td>0.10</td>\n",
       "      <td>0.81</td>\n",
       "      <td>-0.85</td>\n",
       "      <td>0.18</td>\n",
       "      <td>-0.05</td>\n",
       "      <td>1</td>\n",
       "      <td>5</td>\n",
       "      <td>STANDING</td>\n",
       "    </tr>\n",
       "  </tbody>\n",
       "</table>\n",
       "<p>3 rows × 564 columns</p>\n",
       "</div>"
      ],
      "text/plain": [
       "   tBodyAccmeanX  tBodyAccmeanY  tBodyAccmeanZ  tBodyAccstdX  tBodyAccstdY  \\\n",
       "0           0.29          -0.02          -0.13         -1.00         -0.98   \n",
       "1           0.28          -0.02          -0.12         -1.00         -0.98   \n",
       "2           0.28          -0.02          -0.11         -1.00         -0.97   \n",
       "\n",
       "   tBodyAccstdZ  tBodyAccmadX  tBodyAccmadY  tBodyAccmadZ  tBodyAccmaxX  ...  \\\n",
       "0         -0.91         -1.00         -0.98         -0.92         -0.93  ...   \n",
       "1         -0.96         -1.00         -0.97         -0.96         -0.94  ...   \n",
       "2         -0.98         -1.00         -0.96         -0.98         -0.94  ...   \n",
       "\n",
       "   angletBodyAccMeangravity  angletBodyAccJerkMeangravityMean  \\\n",
       "0                     -0.11                              0.03   \n",
       "1                      0.05                             -0.01   \n",
       "2                     -0.12                              0.18   \n",
       "\n",
       "   angletBodyGyroMeangravityMean  angletBodyGyroJerkMeangravityMean  \\\n",
       "0                          -0.46                              -0.02   \n",
       "1                          -0.73                               0.70   \n",
       "2                           0.10                               0.81   \n",
       "\n",
       "   angleXgravityMean  angleYgravityMean  angleZgravityMean  subject  label  \\\n",
       "0              -0.84               0.18              -0.06        1      5   \n",
       "1              -0.84               0.18              -0.05        1      5   \n",
       "2              -0.85               0.18              -0.05        1      5   \n",
       "\n",
       "   activity  \n",
       "0  STANDING  \n",
       "1  STANDING  \n",
       "2  STANDING  \n",
       "\n",
       "[3 rows x 564 columns]"
      ]
     },
     "execution_count": 11,
     "metadata": {},
     "output_type": "execute_result"
    }
   ],
   "source": [
    "train.head(3)"
   ]
  },
  {
   "cell_type": "code",
   "execution_count": 21,
   "metadata": {},
   "outputs": [],
   "source": [
    "X_train = train.drop(['subject', 'label', 'activity'], axis=1)\n",
    "y_train = train.label\n",
    "test_X= test.drop(['subject', 'label', 'activity'], axis=1)\n",
    "test_y = test.label\n",
    "X_test, X_val, y_test, y_val = train_test_split(test_X, test_y, test_size=0.2,random_state =123)\n"
   ]
  },
  {
   "attachments": {},
   "cell_type": "markdown",
   "metadata": {},
   "source": [
    "I further divide the test set into validation dataset and test dataset, to get our model to predict unseen dataset later "
   ]
  },
  {
   "attachments": {},
   "cell_type": "markdown",
   "metadata": {},
   "source": [
    "- I'm using this  library called Lazy Predict to make a rough classification on few different models \n",
    "- This will help on choosing which model perform best on our current dataset \n",
    "- The library can be found from this link https://github.com/shankarpandala/lazypredict"
   ]
  },
  {
   "cell_type": "code",
   "execution_count": 24,
   "metadata": {},
   "outputs": [
    {
     "name": "stderr",
     "output_type": "stream",
     "text": [
      "100%|██████████| 29/29 [01:49<00:00,  3.77s/it]"
     ]
    },
    {
     "name": "stdout",
     "output_type": "stream",
     "text": [
      "                               Accuracy  Balanced Accuracy ROC AUC  F1 Score  \\\n",
      "Model                                                                          \n",
      "CalibratedClassifierCV             0.97               0.97    None      0.97   \n",
      "LinearSVC                          0.97               0.96    None      0.97   \n",
      "PassiveAggressiveClassifier        0.96               0.96    None      0.96   \n",
      "LogisticRegression                 0.95               0.95    None      0.95   \n",
      "Perceptron                         0.95               0.95    None      0.95   \n",
      "SVC                                0.95               0.95    None      0.95   \n",
      "RidgeClassifier                    0.94               0.94    None      0.94   \n",
      "ExtraTreesClassifier               0.94               0.94    None      0.94   \n",
      "SGDClassifier                      0.93               0.93    None      0.93   \n",
      "LGBMClassifier                     0.93               0.93    None      0.93   \n",
      "RandomForestClassifier             0.92               0.92    None      0.92   \n",
      "NuSVC                              0.92               0.91    None      0.91   \n",
      "RidgeClassifierCV                  0.90               0.90    None      0.91   \n",
      "LinearDiscriminantAnalysis         0.90               0.90    None      0.90   \n",
      "BaggingClassifier                  0.89               0.89    None      0.89   \n",
      "KNeighborsClassifier               0.87               0.87    None      0.87   \n",
      "DecisionTreeClassifier             0.86               0.85    None      0.86   \n",
      "BernoulliNB                        0.82               0.82    None      0.82   \n",
      "NearestCentroid                    0.83               0.82    None      0.82   \n",
      "ExtraTreeClassifier                0.79               0.79    None      0.79   \n",
      "GaussianNB                         0.77               0.77    None      0.77   \n",
      "QuadraticDiscriminantAnalysis      0.67               0.67    None      0.66   \n",
      "AdaBoostClassifier                 0.53               0.50    None      0.39   \n",
      "LabelPropagation                   0.16               0.17    None      0.05   \n",
      "LabelSpreading                     0.16               0.17    None      0.05   \n",
      "DummyClassifier                    0.18               0.17    None      0.05   \n",
      "\n",
      "                               Time Taken  \n",
      "Model                                      \n",
      "CalibratedClassifierCV              12.06  \n",
      "LinearSVC                            3.25  \n",
      "PassiveAggressiveClassifier          0.96  \n",
      "LogisticRegression                   1.18  \n",
      "Perceptron                           0.68  \n",
      "SVC                                  2.95  \n",
      "RidgeClassifier                      0.18  \n",
      "ExtraTreesClassifier                 1.54  \n",
      "SGDClassifier                        1.05  \n",
      "LGBMClassifier                       7.93  \n",
      "RandomForestClassifier               8.97  \n",
      "NuSVC                               13.37  \n",
      "RidgeClassifierCV                    0.56  \n",
      "LinearDiscriminantAnalysis           0.80  \n",
      "BaggingClassifier                   23.43  \n",
      "KNeighborsClassifier                 0.26  \n",
      "DecisionTreeClassifier               3.72  \n",
      "BernoulliNB                          0.14  \n",
      "NearestCentroid                      0.13  \n",
      "ExtraTreeClassifier                  0.10  \n",
      "GaussianNB                           0.14  \n",
      "QuadraticDiscriminantAnalysis        0.95  \n",
      "AdaBoostClassifier                  19.99  \n",
      "LabelPropagation                     2.03  \n",
      "LabelSpreading                       2.62  \n",
      "DummyClassifier                      0.09  \n"
     ]
    },
    {
     "name": "stderr",
     "output_type": "stream",
     "text": [
      "\n"
     ]
    }
   ],
   "source": [
    "clf = LazyClassifier(verbose=0,ignore_warnings=True, custom_metric=None)\n",
    "models,predictions = clf.fit(X_train, X_test, y_train, y_test)"
   ]
  },
  {
   "cell_type": "code",
   "execution_count": 27,
   "metadata": {},
   "outputs": [
    {
     "data": {
      "text/html": [
       "<div>\n",
       "<style scoped>\n",
       "    .dataframe tbody tr th:only-of-type {\n",
       "        vertical-align: middle;\n",
       "    }\n",
       "\n",
       "    .dataframe tbody tr th {\n",
       "        vertical-align: top;\n",
       "    }\n",
       "\n",
       "    .dataframe thead th {\n",
       "        text-align: right;\n",
       "    }\n",
       "</style>\n",
       "<table border=\"1\" class=\"dataframe\">\n",
       "  <thead>\n",
       "    <tr style=\"text-align: right;\">\n",
       "      <th></th>\n",
       "      <th>Accuracy</th>\n",
       "      <th>Balanced Accuracy</th>\n",
       "      <th>ROC AUC</th>\n",
       "      <th>F1 Score</th>\n",
       "      <th>Time Taken</th>\n",
       "    </tr>\n",
       "    <tr>\n",
       "      <th>Model</th>\n",
       "      <th></th>\n",
       "      <th></th>\n",
       "      <th></th>\n",
       "      <th></th>\n",
       "      <th></th>\n",
       "    </tr>\n",
       "  </thead>\n",
       "  <tbody>\n",
       "    <tr>\n",
       "      <th>CalibratedClassifierCV</th>\n",
       "      <td>0.97</td>\n",
       "      <td>0.97</td>\n",
       "      <td>None</td>\n",
       "      <td>0.97</td>\n",
       "      <td>12.06</td>\n",
       "    </tr>\n",
       "    <tr>\n",
       "      <th>LinearSVC</th>\n",
       "      <td>0.97</td>\n",
       "      <td>0.96</td>\n",
       "      <td>None</td>\n",
       "      <td>0.97</td>\n",
       "      <td>3.25</td>\n",
       "    </tr>\n",
       "    <tr>\n",
       "      <th>PassiveAggressiveClassifier</th>\n",
       "      <td>0.96</td>\n",
       "      <td>0.96</td>\n",
       "      <td>None</td>\n",
       "      <td>0.96</td>\n",
       "      <td>0.96</td>\n",
       "    </tr>\n",
       "    <tr>\n",
       "      <th>LogisticRegression</th>\n",
       "      <td>0.95</td>\n",
       "      <td>0.95</td>\n",
       "      <td>None</td>\n",
       "      <td>0.95</td>\n",
       "      <td>1.18</td>\n",
       "    </tr>\n",
       "    <tr>\n",
       "      <th>Perceptron</th>\n",
       "      <td>0.95</td>\n",
       "      <td>0.95</td>\n",
       "      <td>None</td>\n",
       "      <td>0.95</td>\n",
       "      <td>0.68</td>\n",
       "    </tr>\n",
       "    <tr>\n",
       "      <th>SVC</th>\n",
       "      <td>0.95</td>\n",
       "      <td>0.95</td>\n",
       "      <td>None</td>\n",
       "      <td>0.95</td>\n",
       "      <td>2.95</td>\n",
       "    </tr>\n",
       "    <tr>\n",
       "      <th>RidgeClassifier</th>\n",
       "      <td>0.94</td>\n",
       "      <td>0.94</td>\n",
       "      <td>None</td>\n",
       "      <td>0.94</td>\n",
       "      <td>0.18</td>\n",
       "    </tr>\n",
       "    <tr>\n",
       "      <th>ExtraTreesClassifier</th>\n",
       "      <td>0.94</td>\n",
       "      <td>0.94</td>\n",
       "      <td>None</td>\n",
       "      <td>0.94</td>\n",
       "      <td>1.54</td>\n",
       "    </tr>\n",
       "    <tr>\n",
       "      <th>SGDClassifier</th>\n",
       "      <td>0.93</td>\n",
       "      <td>0.93</td>\n",
       "      <td>None</td>\n",
       "      <td>0.93</td>\n",
       "      <td>1.05</td>\n",
       "    </tr>\n",
       "    <tr>\n",
       "      <th>LGBMClassifier</th>\n",
       "      <td>0.93</td>\n",
       "      <td>0.93</td>\n",
       "      <td>None</td>\n",
       "      <td>0.93</td>\n",
       "      <td>7.93</td>\n",
       "    </tr>\n",
       "    <tr>\n",
       "      <th>RandomForestClassifier</th>\n",
       "      <td>0.92</td>\n",
       "      <td>0.92</td>\n",
       "      <td>None</td>\n",
       "      <td>0.92</td>\n",
       "      <td>8.97</td>\n",
       "    </tr>\n",
       "    <tr>\n",
       "      <th>NuSVC</th>\n",
       "      <td>0.92</td>\n",
       "      <td>0.91</td>\n",
       "      <td>None</td>\n",
       "      <td>0.91</td>\n",
       "      <td>13.37</td>\n",
       "    </tr>\n",
       "    <tr>\n",
       "      <th>RidgeClassifierCV</th>\n",
       "      <td>0.90</td>\n",
       "      <td>0.90</td>\n",
       "      <td>None</td>\n",
       "      <td>0.91</td>\n",
       "      <td>0.56</td>\n",
       "    </tr>\n",
       "    <tr>\n",
       "      <th>LinearDiscriminantAnalysis</th>\n",
       "      <td>0.90</td>\n",
       "      <td>0.90</td>\n",
       "      <td>None</td>\n",
       "      <td>0.90</td>\n",
       "      <td>0.80</td>\n",
       "    </tr>\n",
       "    <tr>\n",
       "      <th>BaggingClassifier</th>\n",
       "      <td>0.89</td>\n",
       "      <td>0.89</td>\n",
       "      <td>None</td>\n",
       "      <td>0.89</td>\n",
       "      <td>23.43</td>\n",
       "    </tr>\n",
       "    <tr>\n",
       "      <th>KNeighborsClassifier</th>\n",
       "      <td>0.87</td>\n",
       "      <td>0.87</td>\n",
       "      <td>None</td>\n",
       "      <td>0.87</td>\n",
       "      <td>0.26</td>\n",
       "    </tr>\n",
       "    <tr>\n",
       "      <th>DecisionTreeClassifier</th>\n",
       "      <td>0.86</td>\n",
       "      <td>0.85</td>\n",
       "      <td>None</td>\n",
       "      <td>0.86</td>\n",
       "      <td>3.72</td>\n",
       "    </tr>\n",
       "    <tr>\n",
       "      <th>BernoulliNB</th>\n",
       "      <td>0.82</td>\n",
       "      <td>0.82</td>\n",
       "      <td>None</td>\n",
       "      <td>0.82</td>\n",
       "      <td>0.14</td>\n",
       "    </tr>\n",
       "    <tr>\n",
       "      <th>NearestCentroid</th>\n",
       "      <td>0.83</td>\n",
       "      <td>0.82</td>\n",
       "      <td>None</td>\n",
       "      <td>0.82</td>\n",
       "      <td>0.13</td>\n",
       "    </tr>\n",
       "    <tr>\n",
       "      <th>ExtraTreeClassifier</th>\n",
       "      <td>0.79</td>\n",
       "      <td>0.79</td>\n",
       "      <td>None</td>\n",
       "      <td>0.79</td>\n",
       "      <td>0.10</td>\n",
       "    </tr>\n",
       "    <tr>\n",
       "      <th>GaussianNB</th>\n",
       "      <td>0.77</td>\n",
       "      <td>0.77</td>\n",
       "      <td>None</td>\n",
       "      <td>0.77</td>\n",
       "      <td>0.14</td>\n",
       "    </tr>\n",
       "    <tr>\n",
       "      <th>QuadraticDiscriminantAnalysis</th>\n",
       "      <td>0.67</td>\n",
       "      <td>0.67</td>\n",
       "      <td>None</td>\n",
       "      <td>0.66</td>\n",
       "      <td>0.95</td>\n",
       "    </tr>\n",
       "    <tr>\n",
       "      <th>AdaBoostClassifier</th>\n",
       "      <td>0.53</td>\n",
       "      <td>0.50</td>\n",
       "      <td>None</td>\n",
       "      <td>0.39</td>\n",
       "      <td>19.99</td>\n",
       "    </tr>\n",
       "    <tr>\n",
       "      <th>LabelPropagation</th>\n",
       "      <td>0.16</td>\n",
       "      <td>0.17</td>\n",
       "      <td>None</td>\n",
       "      <td>0.05</td>\n",
       "      <td>2.03</td>\n",
       "    </tr>\n",
       "    <tr>\n",
       "      <th>LabelSpreading</th>\n",
       "      <td>0.16</td>\n",
       "      <td>0.17</td>\n",
       "      <td>None</td>\n",
       "      <td>0.05</td>\n",
       "      <td>2.62</td>\n",
       "    </tr>\n",
       "    <tr>\n",
       "      <th>DummyClassifier</th>\n",
       "      <td>0.18</td>\n",
       "      <td>0.17</td>\n",
       "      <td>None</td>\n",
       "      <td>0.05</td>\n",
       "      <td>0.09</td>\n",
       "    </tr>\n",
       "  </tbody>\n",
       "</table>\n",
       "</div>"
      ],
      "text/plain": [
       "                               Accuracy  Balanced Accuracy ROC AUC  F1 Score  \\\n",
       "Model                                                                          \n",
       "CalibratedClassifierCV             0.97               0.97    None      0.97   \n",
       "LinearSVC                          0.97               0.96    None      0.97   \n",
       "PassiveAggressiveClassifier        0.96               0.96    None      0.96   \n",
       "LogisticRegression                 0.95               0.95    None      0.95   \n",
       "Perceptron                         0.95               0.95    None      0.95   \n",
       "SVC                                0.95               0.95    None      0.95   \n",
       "RidgeClassifier                    0.94               0.94    None      0.94   \n",
       "ExtraTreesClassifier               0.94               0.94    None      0.94   \n",
       "SGDClassifier                      0.93               0.93    None      0.93   \n",
       "LGBMClassifier                     0.93               0.93    None      0.93   \n",
       "RandomForestClassifier             0.92               0.92    None      0.92   \n",
       "NuSVC                              0.92               0.91    None      0.91   \n",
       "RidgeClassifierCV                  0.90               0.90    None      0.91   \n",
       "LinearDiscriminantAnalysis         0.90               0.90    None      0.90   \n",
       "BaggingClassifier                  0.89               0.89    None      0.89   \n",
       "KNeighborsClassifier               0.87               0.87    None      0.87   \n",
       "DecisionTreeClassifier             0.86               0.85    None      0.86   \n",
       "BernoulliNB                        0.82               0.82    None      0.82   \n",
       "NearestCentroid                    0.83               0.82    None      0.82   \n",
       "ExtraTreeClassifier                0.79               0.79    None      0.79   \n",
       "GaussianNB                         0.77               0.77    None      0.77   \n",
       "QuadraticDiscriminantAnalysis      0.67               0.67    None      0.66   \n",
       "AdaBoostClassifier                 0.53               0.50    None      0.39   \n",
       "LabelPropagation                   0.16               0.17    None      0.05   \n",
       "LabelSpreading                     0.16               0.17    None      0.05   \n",
       "DummyClassifier                    0.18               0.17    None      0.05   \n",
       "\n",
       "                               Time Taken  \n",
       "Model                                      \n",
       "CalibratedClassifierCV              12.06  \n",
       "LinearSVC                            3.25  \n",
       "PassiveAggressiveClassifier          0.96  \n",
       "LogisticRegression                   1.18  \n",
       "Perceptron                           0.68  \n",
       "SVC                                  2.95  \n",
       "RidgeClassifier                      0.18  \n",
       "ExtraTreesClassifier                 1.54  \n",
       "SGDClassifier                        1.05  \n",
       "LGBMClassifier                       7.93  \n",
       "RandomForestClassifier               8.97  \n",
       "NuSVC                               13.37  \n",
       "RidgeClassifierCV                    0.56  \n",
       "LinearDiscriminantAnalysis           0.80  \n",
       "BaggingClassifier                   23.43  \n",
       "KNeighborsClassifier                 0.26  \n",
       "DecisionTreeClassifier               3.72  \n",
       "BernoulliNB                          0.14  \n",
       "NearestCentroid                      0.13  \n",
       "ExtraTreeClassifier                  0.10  \n",
       "GaussianNB                           0.14  \n",
       "QuadraticDiscriminantAnalysis        0.95  \n",
       "AdaBoostClassifier                  19.99  \n",
       "LabelPropagation                     2.03  \n",
       "LabelSpreading                       2.62  \n",
       "DummyClassifier                      0.09  "
      ]
     },
     "execution_count": 27,
     "metadata": {},
     "output_type": "execute_result"
    }
   ],
   "source": [
    "models"
   ]
  },
  {
   "attachments": {},
   "cell_type": "markdown",
   "metadata": {},
   "source": [
    "As we can see, the highest scored models with 97% accuracy are CalibratedClassifierCV and LinearSVC. In this case I will choose LinearSVC as the time taken for the model to converge is shorter than the other one"
   ]
  },
  {
   "attachments": {},
   "cell_type": "markdown",
   "metadata": {},
   "source": [
    "### Train using LinearSVC"
   ]
  },
  {
   "cell_type": "code",
   "execution_count": 68,
   "metadata": {},
   "outputs": [],
   "source": [
    "import matplotlib.pyplot as plt\n",
    "from sklearn.svm import LinearSVC\n",
    "from sklearn.model_selection import cross_val_score\n",
    "from sklearn.metrics import confusion_matrix, ConfusionMatrixDisplay\n",
    "import itertools\n",
    "import numpy as np\n",
    "plt.rcParams[\"font.family\"] = 'DejaVu Sans'"
   ]
  },
  {
   "cell_type": "code",
   "execution_count": 57,
   "metadata": {},
   "outputs": [],
   "source": [
    "def plot_confusion_matrix(cm, classes,normalize=False,title='Confusion matrix',cmap=plt.cm.Blues):\n",
    "    if normalize:\n",
    "        cm = cm.astype('float') / cm.sum(axis=1)[:, np.newaxis]\n",
    "\n",
    "    plt.imshow(cm, interpolation='nearest', cmap=cmap)\n",
    "    plt.title(title)\n",
    "    plt.colorbar()\n",
    "    tick_marks = np.arange(len(classes))\n",
    "    plt.xticks(tick_marks, classes, rotation=90)\n",
    "    plt.yticks(tick_marks, classes)\n",
    "\n",
    "    fmt = '.2f' if normalize else 'd'\n",
    "    thresh = cm.max() / 2.\n",
    "    for i, j in itertools.product(range(cm.shape[0]), range(cm.shape[1])):\n",
    "        plt.text(j, i, format(cm[i, j], fmt),\n",
    "                 horizontalalignment=\"center\",\n",
    "                 color=\"white\" if cm[i, j] > thresh else \"black\")\n",
    "\n",
    "    plt.tight_layout()\n",
    "    plt.ylabel('True label')\n",
    "    plt.xlabel('Predicted label')"
   ]
  },
  {
   "cell_type": "code",
   "execution_count": 32,
   "metadata": {},
   "outputs": [
    {
     "name": "stdout",
     "output_type": "stream",
     "text": [
      "LinearSVC()\n"
     ]
    }
   ],
   "source": [
    "lsvc = LinearSVC(verbose=0)\n",
    "print(lsvc)"
   ]
  },
  {
   "cell_type": "code",
   "execution_count": 33,
   "metadata": {},
   "outputs": [
    {
     "name": "stdout",
     "output_type": "stream",
     "text": [
      "Score:  0.9949673558215452\n"
     ]
    }
   ],
   "source": [
    "lsvc.fit(X_train, y_train)\n",
    "score = lsvc.score(X_train, y_train)\n",
    "print(\"Score: \", score)"
   ]
  },
  {
   "attachments": {},
   "cell_type": "markdown",
   "metadata": {},
   "source": [
    "The train prediction achieve 99% of accuracy"
   ]
  },
  {
   "cell_type": "code",
   "execution_count": 34,
   "metadata": {},
   "outputs": [
    {
     "name": "stdout",
     "output_type": "stream",
     "text": [
      "CV average score: 0.95\n"
     ]
    }
   ],
   "source": [
    "cv_scores = cross_val_score(lsvc, X_train, y_train, cv=10)\n",
    "print(\"CV average score: %.2f\" % cv_scores.mean())"
   ]
  },
  {
   "attachments": {},
   "cell_type": "markdown",
   "metadata": {},
   "source": [
    "To make sure it is not overfitting, we try to do cross validation on the dataset, and it obtain average score of 95% "
   ]
  },
  {
   "cell_type": "code",
   "execution_count": 63,
   "metadata": {},
   "outputs": [
    {
     "name": "stdout",
     "output_type": "stream",
     "text": [
      "--------------------\n",
      "| Confusion Matrix |\n",
      "--------------------\n",
      "\n",
      " [[383   0   5   0   0   0]\n",
      " [ 17 362   1   0   0   0]\n",
      " [  2   2 329   0   0   0]\n",
      " [  0   3   0 349  42   2]\n",
      " [  1   0   0   7 428   0]\n",
      " [  0   0   0   0   0 424]]\n"
     ]
    },
    {
     "data": {
      "image/png": "[encoded data removed]",
      "text/plain": [
       "<Figure size 800x800 with 2 Axes>"
      ]
     },
     "metadata": {},
     "output_type": "display_data"
    }
   ],
   "source": [
    "labels = ['WALKING','WALKING_UPSTAIRS','WALKING_DOWNSTAIRS','SITTING','STANDING','LAYING']\n",
    "\n",
    "y_pred = lsvc.predict(X_test)\n",
    "cm = confusion_matrix(y_test, y_pred)\n",
    "\n",
    "print('--------------------')\n",
    "print('| Confusion Matrix |')\n",
    "print('--------------------')\n",
    "print('\\n {}'.format(cm))\n",
    "        \n",
    "# plot confusin matrix\n",
    "plt.figure(figsize=(8,8))\n",
    "plt.grid(b=False)\n",
    "plot_confusion_matrix(cm, classes=labels, normalize=True, title='Normalized confusion matrix', cmap=plt.cm.Greens)\n",
    "plt.show()"
   ]
  },
  {
   "attachments": {},
   "cell_type": "markdown",
   "metadata": {},
   "source": [
    "The graph above depicts the confusion matrix on the test dataset "
   ]
  },
  {
   "attachments": {},
   "cell_type": "markdown",
   "metadata": {},
   "source": [
    "print out the  classification report"
   ]
  },
  {
   "cell_type": "code",
   "execution_count": 66,
   "metadata": {},
   "outputs": [
    {
     "name": "stdout",
     "output_type": "stream",
     "text": [
      "              precision    recall  f1-score   support\n",
      "\n",
      "           1       0.95      0.99      0.97       388\n",
      "           2       0.99      0.95      0.97       380\n",
      "           3       0.98      0.99      0.99       333\n",
      "           4       0.98      0.88      0.93       396\n",
      "           5       0.91      0.98      0.94       436\n",
      "           6       1.00      1.00      1.00       424\n",
      "\n",
      "    accuracy                           0.97      2357\n",
      "   macro avg       0.97      0.97      0.97      2357\n",
      "weighted avg       0.97      0.97      0.97      2357\n",
      "\n"
     ]
    }
   ],
   "source": [
    "cr = classification_report(y_test, y_pred)\n",
    "print(cr)"
   ]
  },
  {
   "attachments": {},
   "cell_type": "markdown",
   "metadata": {},
   "source": [
    "### Validation"
   ]
  },
  {
   "cell_type": "code",
   "execution_count": 64,
   "metadata": {},
   "outputs": [
    {
     "name": "stdout",
     "output_type": "stream",
     "text": [
      "--------------------\n",
      "| Confusion Matrix |\n",
      "--------------------\n",
      "\n",
      " [[112   0   0   0   0   0]\n",
      " [  0  87   0   0   0   0]\n",
      " [  0   0  87   0   0   0]\n",
      " [  0   0   0  86   0   0]\n",
      " [  0   0   0   0 105   0]\n",
      " [  0   0   0   0   0 113]]\n"
     ]
    },
    {
     "data": {
      "image/png": "[encoded data removed]",
      "text/plain": [
       "<Figure size 800x800 with 2 Axes>"
      ]
     },
     "metadata": {},
     "output_type": "display_data"
    }
   ],
   "source": [
    "y_pred_val= lsvc.predict(X_val)\n",
    "\n",
    "cm = confusion_matrix(y_val, y_pred_val)\n",
    "print('--------------------')\n",
    "print('| Confusion Matrix |')\n",
    "print('--------------------')\n",
    "print('\\n {}'.format(cm))\n",
    "        \n",
    "# plot confusin matrix\n",
    "plt.figure(figsize=(8,8))\n",
    "plt.grid(b=False)\n",
    "plot_confusion_matrix(cm, classes=labels, normalize=True, title='Normalized confusion matrix', cmap=plt.cm.Greens)\n",
    "plt.show()"
   ]
  },
  {
   "attachments": {},
   "cell_type": "markdown",
   "metadata": {},
   "source": [
    "Lastly, we try on validation dataset "
   ]
  }
 ],
 "metadata": {
  "kernelspec": {
   "display_name": "Python 3",
   "language": "python",
   "name": "python3"
  },
  "language_info": {
   "codemirror_mode": {
    "name": "ipython",
    "version": 3
   },
   "file_extension": ".py",
   "mimetype": "text/x-python",
   "name": "python",
   "nbconvert_exporter": "python",
   "pygments_lexer": "ipython3",
   "version": "3.8.10"
  },
  "orig_nbformat": 4,
  "vscode": {
   "interpreter": {
    "hash": "916dbcbb3f70747c44a77c7bcd40155683ae19c65e1c03b4aa3499c5328201f1"
   }
  }
 },
 "nbformat": 4,
 "nbformat_minor": 2
}
